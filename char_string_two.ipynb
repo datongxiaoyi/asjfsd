{
 "cells": [
  {
   "cell_type": "code",
   "execution_count": 4,
   "metadata": {},
   "outputs": [
    {
     "name": "stdout",
     "output_type": "stream",
     "text": [
      "['1', '2', '3', '1', '7', '8', '8', '9']\n",
      "1\n",
      "k2= 5.0\n",
      "3\n"
     ]
    }
   ],
   "source": [
    "# %load D:\\git_\\jjj-master\\1.py\n",
    "txt = \"1,2,3,1,7,8,8,9\"\n",
    "txt2 = \"1,2,3,1，7,8,8,9\"\n",
    "# 第二个参数为 1，返回两个参数列表\n",
    "x = txt.split(\",\")\n",
    "k=x[1]+x[2]#23\n",
    "k2=float(x[1])+float(x[2])#5\n",
    "y0= txt.split(',')[0]\n",
    "y1= txt.split(',')[1]\n",
    "y2= txt.split(',')[2]\n",
    "print(x)#['1', '2', '3', '1']\n",
    "print(y0)#1\n",
    "print(\"k2=\",k2)#2\n",
    "print(y2)#3"
   ]
  },
  {
   "cell_type": "code",
   "execution_count": 5,
   "metadata": {},
   "outputs": [
    {
     "name": "stdout",
     "output_type": "stream",
     "text": [
      "5.0\n",
      "i= 8.0\n"
     ]
    }
   ],
   "source": [
    "i=k2+3\n",
    "print(k2)\n",
    "print(\"i=\",i)"
   ]
  },
  {
   "cell_type": "markdown",
   "metadata": {},
   "source": [
    "加法计算"
   ]
  },
  {
   "cell_type": "code",
   "execution_count": 6,
   "metadata": {},
   "outputs": [
    {
     "name": "stdout",
     "output_type": "stream",
     "text": [
      "5.0\n",
      "i= 2.0\n"
     ]
    }
   ],
   "source": [
    "i=k2-3\n",
    "print(k2)\n",
    "print(\"i=\",i)"
   ]
  },
  {
   "cell_type": "markdown",
   "metadata": {},
   "source": [
    "# 减法计算"
   ]
  },
  {
   "cell_type": "code",
   "execution_count": null,
   "metadata": {},
   "outputs": [],
   "source": []
  }
 ],
 "metadata": {
  "kernelspec": {
   "display_name": "Python 3",
   "language": "python",
   "name": "python3"
  },
  "language_info": {
   "codemirror_mode": {
    "name": "ipython",
    "version": 3
   },
   "file_extension": ".py",
   "mimetype": "text/x-python",
   "name": "python",
   "nbconvert_exporter": "python",
   "pygments_lexer": "ipython3",
   "version": "3.6.8"
  }
 },
 "nbformat": 4,
 "nbformat_minor": 2
}
